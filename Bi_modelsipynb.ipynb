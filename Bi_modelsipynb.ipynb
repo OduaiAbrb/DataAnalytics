{
  "nbformat": 4,
  "nbformat_minor": 0,
  "metadata": {
    "colab": {
      "provenance": [],
      "authorship_tag": "ABX9TyNLpaVfZzThoUycIT/xCPii",
      "include_colab_link": true
    },
    "kernelspec": {
      "name": "python3",
      "display_name": "Python 3"
    },
    "language_info": {
      "name": "python"
    }
  },
  "cells": [
    {
      "cell_type": "markdown",
      "metadata": {
        "id": "view-in-github",
        "colab_type": "text"
      },
      "source": [
        "<a href=\"https://colab.research.google.com/github/OduaiAbrb/DataAnalytics/blob/main/Bi_modelsipynb.ipynb\" target=\"_parent\"><img src=\"https://colab.research.google.com/assets/colab-badge.svg\" alt=\"Open In Colab\"/></a>"
      ]
    },
    {
      "cell_type": "code",
      "execution_count": 3,
      "metadata": {
        "colab": {
          "base_uri": "https://localhost:8080/"
        },
        "id": "2xo57RF7ZrQX",
        "outputId": "7b7dd484-a06d-46d1-cfa6-f647bb7c3422"
      },
      "outputs": [
        {
          "output_type": "stream",
          "name": "stdout",
          "text": [
            "              precision    recall  f1-score   support\n",
            "\n",
            "           0       0.84      0.83      0.83     22098\n",
            "           1       0.43      0.46      0.45      6341\n",
            "\n",
            "    accuracy                           0.75     28439\n",
            "   macro avg       0.64      0.64      0.64     28439\n",
            "weighted avg       0.75      0.75      0.75     28439\n",
            "\n"
          ]
        }
      ],
      "source": [
        "from sklearn.tree import DecisionTreeClassifier\n",
        "from sklearn.impute import SimpleImputer\n",
        "from sklearn.model_selection import train_test_split\n",
        "from sklearn.metrics import classification_report\n",
        "import pandas as pd\n",
        "\n",
        "# Load and preprocess\n",
        "weather_data = pd.read_csv(\"/content/weatherAUS.csv\")\n",
        "weather_data = weather_data[['MinTemp', 'MaxTemp', 'Rainfall', 'Humidity3pm', 'RainTomorrow']].dropna(subset=['RainTomorrow'])\n",
        "weather_data['RainTomorrow'] = weather_data['RainTomorrow'].map({'Yes': 1, 'No': 0})\n",
        "X_weather = weather_data.drop('RainTomorrow', axis=1)\n",
        "y_weather = weather_data['RainTomorrow']\n",
        "\n",
        "# Impute and train\n",
        "X_weather = SimpleImputer(strategy='mean').fit_transform(X_weather)\n",
        "X_train, X_test, y_train, y_test = train_test_split(X_weather, y_weather, test_size=0.2, random_state=42)\n",
        "clf = DecisionTreeClassifier(random_state=42).fit(X_train, y_train)\n",
        "print(classification_report(y_test, clf.predict(X_test)))\n"
      ]
    },
    {
      "cell_type": "code",
      "source": [
        "\n",
        "import pandas as pd\n",
        "from sklearn.model_selection import train_test_split\n",
        "from sklearn.preprocessing import StandardScaler\n",
        "from sklearn.ensemble import RandomForestClassifier\n",
        "from sklearn.metrics import classification_report\n",
        "\n",
        "\n",
        "url = \"/content/heart.csv\"\n",
        "heart = pd.read_csv(url)\n",
        "\n",
        "\n",
        "X = heart.drop(\"target\", axis=1)\n",
        "y = heart[\"target\"]\n",
        "\n",
        "\n",
        "scaler = StandardScaler()\n",
        "X_scaled = scaler.fit_transform(X)\n",
        "\n",
        "\n",
        "X_train, X_test, y_train, y_test = train_test_split(\n",
        "    X_scaled, y, test_size=0.2, stratify=y, random_state=42\n",
        ")\n",
        "\n",
        "\n",
        "model = RandomForestClassifier(random_state=42)\n",
        "model.fit(X_train, y_train)\n",
        "y_pred = model.predict(X_test)\n",
        "\n",
        "\n",
        "print(\"Classification Report:\\n\")\n",
        "print(classification_report(y_test, y_pred))\n"
      ],
      "metadata": {
        "colab": {
          "base_uri": "https://localhost:8080/"
        },
        "id": "gDsDy4osbBMe",
        "outputId": "3c16ed15-1201-4d82-fb13-84f5afaafb0a"
      },
      "execution_count": 10,
      "outputs": [
        {
          "output_type": "stream",
          "name": "stdout",
          "text": [
            "Classification Report:\n",
            "\n",
            "              precision    recall  f1-score   support\n",
            "\n",
            "           0       0.95      0.68      0.79        28\n",
            "           1       0.78      0.97      0.86        33\n",
            "\n",
            "    accuracy                           0.84        61\n",
            "   macro avg       0.87      0.82      0.83        61\n",
            "weighted avg       0.86      0.84      0.83        61\n",
            "\n"
          ]
        }
      ]
    },
    {
      "cell_type": "code",
      "source": [
        "from sklearn.ensemble import RandomForestClassifier\n",
        "\n",
        "# Load and preprocess\n",
        "colnames = [\n",
        "    \"age\", \"workclass\", \"fnlwgt\", \"education\", \"education-num\", \"marital-status\",\n",
        "    \"occupation\", \"relationship\", \"race\", \"sex\", \"capital-gain\", \"capital-loss\",\n",
        "    \"hours-per-week\", \"native-country\", \"income\"\n",
        "]\n",
        "adult_data = pd.read_csv(\"https://archive.ics.uci.edu/ml/machine-learning-databases/adult/adult.data\", names=colnames, sep=', ', engine='python')\n",
        "adult_data = adult_data.replace('?', pd.NA).dropna()\n",
        "adult_data['income'] = adult_data['income'].map({'>50K': 1, '<=50K': 0})\n",
        "y_adult = adult_data['income']\n",
        "X_adult = pd.get_dummies(adult_data.drop('income', axis=1))\n",
        "\n",
        "# Train\n",
        "X_train, X_test, y_train, y_test = train_test_split(X_adult, y_adult, test_size=0.2, random_state=42)\n",
        "clf = RandomForestClassifier(random_state=42).fit(X_train, y_train)\n",
        "print(classification_report(y_test, clf.predict(X_test)))\n"
      ],
      "metadata": {
        "colab": {
          "base_uri": "https://localhost:8080/"
        },
        "id": "MKVRQ8XRbDPu",
        "outputId": "9c9bbbe4-f15f-4c78-f945-55ef1d4d639e"
      },
      "execution_count": 5,
      "outputs": [
        {
          "output_type": "stream",
          "name": "stdout",
          "text": [
            "              precision    recall  f1-score   support\n",
            "\n",
            "           0       0.88      0.92      0.90      4503\n",
            "           1       0.73      0.64      0.68      1530\n",
            "\n",
            "    accuracy                           0.85      6033\n",
            "   macro avg       0.81      0.78      0.79      6033\n",
            "weighted avg       0.85      0.85      0.85      6033\n",
            "\n"
          ]
        }
      ]
    }
  ]
}